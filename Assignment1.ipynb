{
  "nbformat": 4,
  "nbformat_minor": 0,
  "metadata": {
    "colab": {
      "provenance": [],
      "authorship_tag": "ABX9TyPZvXkvY9XIbXkOJWQ/zC8V",
      "include_colab_link": true
    },
    "kernelspec": {
      "name": "python3",
      "display_name": "Python 3"
    },
    "language_info": {
      "name": "python"
    }
  },
  "cells": [
    {
      "cell_type": "markdown",
      "metadata": {
        "id": "view-in-github",
        "colab_type": "text"
      },
      "source": [
        "<a href=\"https://colab.research.google.com/github/AnPham27/CP460/blob/main/Assignment1.ipynb\" target=\"_parent\"><img src=\"https://colab.research.google.com/assets/colab-badge.svg\" alt=\"Open In Colab\"/></a>"
      ]
    },
    {
      "cell_type": "code",
      "execution_count": null,
      "metadata": {
        "colab": {
          "base_uri": "https://localhost:8080/"
        },
        "id": "ufIWl4MzzleR",
        "outputId": "88ffcdf8-f9c6-49da-a53a-052b2431acc9"
      },
      "outputs": [
        {
          "output_type": "stream",
          "name": "stdout",
          "text": [
            "[5, 0, 2, 3, 0, 0, 5, 4, 9, 2, 1, 5, 0, 0, 0, 5, 1, 1, 1, 10, 1, 1, 4, 7, 0, 0]\n",
            "['x', 'u', 'l', 't', 'p', 'a', 'j', 'c', 'i', 'r', 'h', 'w', 'g', 'k', 'd', 'v', 'q', 's']\n",
            "[0.0746, 0.0, 0.0299, 0.0448, 0.0, 0.0, 0.0746, 0.0597, 0.1343, 0.0299, 0.0149, 0.0746, 0.0, 0.0, 0.0, 0.0746, 0.0149, 0.0149, 0.0149, 0.1493, 0.0149, 0.0149, 0.0597, 0.1045, 0.0, 0.0]\n",
            "{'i': 0.1343, 'x': 0.0746, 'j': 0.0746, 'w': 0.0746, 'v': 0.0746, 'c': 0.0597, 't': 0.0448, 'l': 0.0299, 'r': 0.0299, 'h': 0.0149, 'q': 0.0149, 's': 0.0149, 'u': 0.0, 'p': 0.0, 'a': 0.0, 'g': 0.0, 'k': 0.0, 'd': 0.0}\n",
            "{'e': 0.127, 't': 0.0906, 'a': 0.0817, 'o': 0.0751, 'i': 0.0697, 'n': 0.0675, 's': 0.0633, 'h': 0.0609, 'r': 0.0599, 'd': 0.0425, 'l': 0.0403, 'c': 0.0278, 'u': 0.0276, 'm': 0.0241, 'w': 0.0236, 'f': 0.0223, 'g': 0.0202, 'y': 0.0197, 'p': 0.0193, 'b': 0.015, 'v': 0.0098, 'k': 0.0077, 'j': 0.0015, 'x': 0.0015, 'q': 0.001, 'z': 0.0007}\n"
          ]
        }
      ],
      "source": [
        "ciphertext = \"xultpaajcxitltlxaarpjhtiwtgxktghidhipxciwtvgtpilpitghlxiwiwtxgqadds\"\n",
        "frequency = [0.0817, 0.0150, 0.0278, 0.0425, 0.1270, 0.0223, 0.0202, 0.0609, 0.0697, 0.0015, 0.0077, 0.0403, 0.0241, 0.0675, 0.0751, 0.0193, 0.0010, 0.0599, 0.0633, 0.0906, 0.0276, 0.0098, 0.0236, 0.0015, 0.0197, 0.0007]\n",
        "alphabet = ['a', 'b', 'c', 'd', 'e', 'f', 'g', 'h', 'i', 'j','k','l','m','n','o','p','q','r','s','t','u','v','w','x','y','z']\n",
        "norm_dict = {letter: index for letter, index in zip(alphabet, frequency)}\n",
        "sorted_norm_dict = {k: v for k, v in sorted(norm_dict.items(), key=lambda item: item[1], reverse=True)}\n",
        "\n",
        "#print(norm_dict)\n",
        "#print(sorted_norm_dict)\n",
        "\n",
        "#index 0 = A, 1 = B, ... , etc\n",
        "\n",
        "cipher_freq = [0] * 26  #initialize a list with 26 zeros to represent letter frequencies\n",
        "cipher_index = 0\n",
        "letters = []\n",
        "\n",
        "#!!!!!!!!!!!!!!!!!!!! this isn't right... i need each letter to be in the same order as ciphertext\n",
        "for char in ciphertext:\n",
        "    index = ord(char) - ord('a')\n",
        "    cipher_freq[index] += 1\n",
        "    if cipher_freq[index] == 1:\n",
        "      letters.append(char)\n",
        "\n",
        "\n",
        "print(cipher_freq)\n",
        "print(letters)\n",
        "\n",
        "#after it is populated, we must divide by the length of ciphertext to get % relative frequency\n",
        "\n",
        "for i in range (len(cipher_freq)):\n",
        "  cipher_freq[i] = round(cipher_freq[i]/(len(ciphertext)), 4)   #round to 4 decimal places like the table\n",
        "\n",
        "print(cipher_freq)\n",
        "\n",
        "# zip the ciphertext to the frequency array in a dictionary\n",
        "\n",
        "frequency_dict = {letter: index for letter, index in zip(letters, cipher_freq)}\n",
        "sorted_dict = {k: v for k, v in sorted(frequency_dict.items(), key=lambda item: item[1], reverse=True)}\n",
        "\n",
        "print(sorted_dict)\n",
        "print(sorted_norm_dict)\n",
        "\n",
        "#next is the frequency analysis\n",
        "#going to use a max_difference (subtracting the normal frequency - cipher frequency) to decide if that letter is correctly mapped\n",
        "\n",
        "MAX_DIFF = 0.01\n",
        "\n"
      ]
    },
    {
      "cell_type": "code",
      "source": [],
      "metadata": {
        "id": "ljGMRwp23OMU"
      },
      "execution_count": null,
      "outputs": []
    }
  ]
}