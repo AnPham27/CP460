{
  "nbformat": 4,
  "nbformat_minor": 0,
  "metadata": {
    "colab": {
      "provenance": [],
      "authorship_tag": "ABX9TyM+5GufzGuKsnjQBqiGJy+t",
      "include_colab_link": true
    },
    "kernelspec": {
      "name": "python3",
      "display_name": "Python 3"
    },
    "language_info": {
      "name": "python"
    }
  },
  "cells": [
    {
      "cell_type": "markdown",
      "metadata": {
        "id": "view-in-github",
        "colab_type": "text"
      },
      "source": [
        "<a href=\"https://colab.research.google.com/github/AnPham27/CP460/blob/main/Assignment1.ipynb\" target=\"_parent\"><img src=\"https://colab.research.google.com/assets/colab-badge.svg\" alt=\"Open In Colab\"/></a>"
      ]
    },
    {
      "cell_type": "code",
      "execution_count": 39,
      "metadata": {
        "colab": {
          "base_uri": "https://localhost:8080/"
        },
        "id": "ufIWl4MzzleR",
        "outputId": "8a26f817-0951-4c01-96b5-4e2f73733443"
      },
      "outputs": [
        {
          "output_type": "stream",
          "name": "stdout",
          "text": [
            "Letter frequency of the ciphertext sorted in descending order\n",
            "{'t': 0.1493, 'i': 0.1343, 'x': 0.1045, 'l': 0.0746, 'p': 0.0746, 'a': 0.0746, 'g': 0.0746, 'h': 0.0597, 'w': 0.0597, 'd': 0.0448, 'j': 0.0299, 'c': 0.0299, 'u': 0.0149, 'r': 0.0149, 'k': 0.0149, 'v': 0.0149, 'q': 0.0149, 's': 0.0149}\n",
            "\n",
            "Letter frequncy of English characters sorted in descending order\n",
            "{'e': 0.127, 't': 0.0906, 'a': 0.0817, 'o': 0.0751, 'i': 0.0697, 'n': 0.0675, 's': 0.0633, 'h': 0.0609, 'r': 0.0599, 'd': 0.0425, 'l': 0.0403, 'c': 0.0278, 'u': 0.0276, 'm': 0.0241, 'w': 0.0236, 'f': 0.0223, 'g': 0.0202, 'y': 0.0197, 'p': 0.0193, 'b': 0.015, 'v': 0.0098, 'k': 0.0077, 'j': 0.0015, 'x': 0.0015, 'q': 0.001, 'z': 0.0007}\n",
            "\n",
            "\n",
            "Coded message: xultpaajcxitltlxaarpjhtiwtgxktghidhipxciwtvgtpilpitghlxiwiwtxgqadds\n",
            "Decoded message: ifweallunitewewillcausetheriverstostainthegreatwaterswiththeirblood\n"
          ]
        }
      ],
      "source": [
        "#TASK 1 a)\n",
        "def letter_frequency_attack(text):\n",
        "  frequency = [0.0817, 0.0150, 0.0278, 0.0425, 0.1270, 0.0223, 0.0202, 0.0609, 0.0697, 0.0015, 0.0077, 0.0403, 0.0241, 0.0675, 0.0751, 0.0193, 0.0010, 0.0599, 0.0633, 0.0906, 0.0276, 0.0098, 0.0236, 0.0015, 0.0197, 0.0007]\n",
        "  alphabet = ['a', 'b', 'c', 'd', 'e', 'f', 'g', 'h', 'i', 'j','k','l','m','n','o','p','q','r','s','t','u','v','w','x','y','z']\n",
        "  norm_dict = {letter: index for letter, index in zip(alphabet, frequency)}\n",
        "  sorted_norm_dict = {k: v for k, v in sorted(norm_dict.items(), key=lambda item: item[1], reverse=True)}\n",
        "\n",
        "  #print(norm_dict)\n",
        "  #print(sorted_norm_dict)\n",
        "\n",
        "  #index 0 = A, 1 = B, ... , etc\n",
        "\n",
        "  cipher_index = 0\n",
        "  letters = []\n",
        "\n",
        "  for char in ciphertext:\n",
        "      #index = ord(char) - ord('a')\n",
        "      #cipher_freq[index] += 1\n",
        "      if char not in letters:\n",
        "        letters.append(char)\n",
        "\n",
        "\n",
        "  cipher_freq = [0] * len(letters)  #initialize a list with zeros to represent letter frequencies of the ciphertext\n",
        "\n",
        "  for i in range (len(ciphertext)):\n",
        "      for j in range (len(letters)):\n",
        "        if ciphertext[i] == letters[j]:\n",
        "          cipher_freq[j] += 1\n",
        "\n",
        "\n",
        "  #print(cipher_freq)\n",
        "  #print(letters)\n",
        "\n",
        "  #after it is populated, we must divide by the length of ciphertext to get % relative frequency\n",
        "\n",
        "  for i in range (len(cipher_freq)):\n",
        "    cipher_freq[i] = round(cipher_freq[i]/(len(ciphertext)), 4)   #round to 4 decimal places like the table\n",
        "\n",
        "  #print(cipher_freq)\n",
        "\n",
        "  # zip the ciphertext to the frequency array in a dictionary\n",
        "\n",
        "  frequency_dict = {letter: index for letter, index in zip(letters, cipher_freq)}\n",
        "  sorted_dict = {k: v for k, v in sorted(frequency_dict.items(), key=lambda item: item[1], reverse=True)}\n",
        "  print(\"Letter frequency of the ciphertext sorted in descending order\")\n",
        "  print(sorted_dict)\n",
        "\n",
        "  print(\"\\nLetter frequncy of English characters sorted in descending order\")\n",
        "  print(sorted_norm_dict)\n",
        "\n",
        "  #next is the frequency analysis\n",
        "  #since both arrays are sorted from greatest frequency, we can try matching the letters to each other\n",
        "  #t = e and find the shift\n",
        "\n",
        "  #calculate the shift amount\n",
        "  first_item = next(iter(sorted_dict.items()))\n",
        "  first_key, first_value = first_item\n",
        "\n",
        "  source_item = next(iter(sorted_norm_dict.items()))\n",
        "  first_source_key, first_source_value = source_item\n",
        "\n",
        "  shift_amount = ord(first_key) - ord(first_source_key)\n",
        "\n",
        "  #print(shift_amount)\n",
        "\n",
        "\n",
        "  result = ''\n",
        "\n",
        "  for char in ciphertext:\n",
        "      if char.isalpha():\n",
        "          char = char.lower()\n",
        "          shifted = chr(((ord(char) - ord('a') - shift_amount) % 26) + ord('a'))\n",
        "          result += shifted\n",
        "      else:\n",
        "          result += char\n",
        "\n",
        "  return(result)\n",
        "\n",
        "\n",
        "ciphertext = \"xultpaajcxitltlxaarpjhtiwtgxktghidhipxciwtvgtpilpitghlxiwiwtxgqadds\"\n",
        "decoded_text = letter_frequency_attack(ciphertext)\n",
        "print(\"\\n\")\n",
        "print(f\"Coded message: {ciphertext}\")\n",
        "print(f\"Decoded message: {decoded_text}\")\n",
        "\n",
        "\n"
      ]
    },
    {
      "cell_type": "markdown",
      "source": [
        "Task 1:\n",
        "b) I sorted the frequency arrays in descending order (for both English letters and ciphertext letters) to match the most frequent letter, so it took only 1 letter to identify the shift amount.\n",
        "\n",
        "Ex:\n",
        "most frequent letter in English language = e\n",
        "most frequent letter in ciphertext = t\n",
        "shift amount = 15\n",
        "\n",
        "Cleartext: ifweallunitewewillcausetheriverstostainthegreatwaterswiththeirblood.\n"
      ],
      "metadata": {
        "id": "gDI6SqEmjUQx"
      }
    },
    {
      "cell_type": "code",
      "source": [
        "#TASK 2 a)\n",
        "\n",
        "def affine_encrypt(k, plaintext):\n",
        "    a, b = k\n",
        "    m = 26  #size of the English alphabet\n",
        "\n",
        "    def encrypt_char(char):\n",
        "        if char.isalpha():\n",
        "            x = ord(char) - ord('a')\n",
        "            encrypted_char = (a * x + b) % m\n",
        "            encrypted_char = (encrypted_char + m) % m  #ensure it's non-negative\n",
        "            encrypted_char += ord('a')\n",
        "\n",
        "            encrypted_char = chr(encrypted_char)\n",
        "            return encrypted_char\n",
        "        else:\n",
        "            return char\n",
        "\n",
        "    encrypted_text = ''.join(encrypt_char(char) for char in plaintext)\n",
        "    return encrypted_text\n",
        "\n",
        "\n",
        "def mod_inverse(a, m):\n",
        "    # Calculate the modular multiplicative inverse of 'a' modulo 'm'\n",
        "    for x in range(1, m):\n",
        "        if (a * x) % m == 1:\n",
        "            return x\n",
        "    return None  # No modular inverse exists\n",
        "\n",
        "def affine_decrypt(k, ciphertext):\n",
        "    a, b = k\n",
        "    m = 26  # Size of the English alphabet\n",
        "\n",
        "    # Calculate the modular multiplicative inverse of 'a' modulo 'm'\n",
        "\n",
        "    a_inverse = mod_inverse(a, m)\n",
        "\n",
        "    if a_inverse is not None:\n",
        "        def decrypt_char(char):\n",
        "            if char.isalpha():\n",
        "                x = ord(char) - ord('a')\n",
        "                decrypted_char = (a_inverse * (x - b)) % m\n",
        "                decrypted_char += ord('a')\n",
        "                decrypted_char = chr(decrypted_char)\n",
        "                return decrypted_char\n",
        "            else:\n",
        "                return char\n",
        "\n",
        "        decrypted_text = ''.join(decrypt_char(char) for char in ciphertext)\n",
        "        return decrypted_text\n",
        "    else:\n",
        "        return \"The key is not valid for decryption.\"\n",
        "\n",
        "\n",
        "#test for Task 2 a)\n",
        "plaintext = \"john smith is the culprit!\"\n",
        "k = (17, 8)\n",
        "ciphertext = affine_encrypt(k, plaintext)\n",
        "decoded_text = affine_decrypt(k, ciphertext)\n",
        "\n",
        "print(\"Task 2 a)\")\n",
        "print(ciphertext)\n",
        "print(decoded_text)\n",
        "\n",
        "#test for Task 2 b)\n",
        "print(\"\\nTask 2 b)\")\n",
        "ciphertext = \"falszztysyjzyjkywjrztyjztyynaryjkyswarztyegyyj\"\n",
        "k = (7,22)\n",
        "decoded_text = affine_decrypt(k, ciphertext)\n",
        "print(ciphertext)\n",
        "print(decoded_text)\n"
      ],
      "metadata": {
        "colab": {
          "base_uri": "https://localhost:8080/"
        },
        "id": "n3SnuhkWjVk_",
        "outputId": "d32739ae-f3ee-4fab-ad00-a7b16e94f598"
      },
      "execution_count": 35,
      "outputs": [
        {
          "output_type": "stream",
          "name": "stdout",
          "text": [
            "Task 2 a)\n",
            "fmxv ceotx oc txy qkndlot!\n",
            "john smith is the culprit!\n",
            "\n",
            "Task 2 b)\n",
            "falszztysyjzyjkywjrztyjztyynaryjkyswarztyegyyj\n",
            "firstthesentenceandthentheevidencesaidthequeen\n"
          ]
        }
      ]
    }
  ]
}