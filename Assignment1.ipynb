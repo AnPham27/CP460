{
  "nbformat": 4,
  "nbformat_minor": 0,
  "metadata": {
    "colab": {
      "provenance": [],
      "authorship_tag": "ABX9TyO/dR/P4NEsHjx62jt0/Hf7",
      "include_colab_link": true
    },
    "kernelspec": {
      "name": "python3",
      "display_name": "Python 3"
    },
    "language_info": {
      "name": "python"
    }
  },
  "cells": [
    {
      "cell_type": "markdown",
      "metadata": {
        "id": "view-in-github",
        "colab_type": "text"
      },
      "source": [
        "<a href=\"https://colab.research.google.com/github/AnPham27/CP460/blob/main/Assignment1.ipynb\" target=\"_parent\"><img src=\"https://colab.research.google.com/assets/colab-badge.svg\" alt=\"Open In Colab\"/></a>"
      ]
    },
    {
      "cell_type": "code",
      "execution_count": 22,
      "metadata": {
        "colab": {
          "base_uri": "https://localhost:8080/"
        },
        "id": "ufIWl4MzzleR",
        "outputId": "6e4843bb-9e8a-4061-9316-3ddfbecdac9a"
      },
      "outputs": [
        {
          "output_type": "stream",
          "name": "stdout",
          "text": [
            "{'t': 0.1493, 'i': 0.1343, 'x': 0.1045, 'l': 0.0746, 'p': 0.0746, 'a': 0.0746, 'g': 0.0746, 'h': 0.0597, 'w': 0.0597, 'd': 0.0448, 'j': 0.0299, 'c': 0.0299, 'u': 0.0149, 'r': 0.0149, 'k': 0.0149, 'v': 0.0149, 'q': 0.0149, 's': 0.0149}\n",
            "{'e': 0.127, 't': 0.0906, 'a': 0.0817, 'o': 0.0751, 'i': 0.0697, 'n': 0.0675, 's': 0.0633, 'h': 0.0609, 'r': 0.0599, 'd': 0.0425, 'l': 0.0403, 'c': 0.0278, 'u': 0.0276, 'm': 0.0241, 'w': 0.0236, 'f': 0.0223, 'g': 0.0202, 'y': 0.0197, 'p': 0.0193, 'b': 0.015, 'v': 0.0098, 'k': 0.0077, 'j': 0.0015, 'x': 0.0015, 'q': 0.001, 'z': 0.0007}\n",
            "xultpaajcxitltlxaarpjhtiwtgxktghidhipxciwtvgtpilpitghlxiwiwtxgqadds\n",
            "ifweallunitewewillcausetheriverstostainthegreatwaterswiththeirblood\n"
          ]
        }
      ],
      "source": [
        "ciphertext = \"xultpaajcxitltlxaarpjhtiwtgxktghidhipxciwtvgtpilpitghlxiwiwtxgqadds\"\n",
        "frequency = [0.0817, 0.0150, 0.0278, 0.0425, 0.1270, 0.0223, 0.0202, 0.0609, 0.0697, 0.0015, 0.0077, 0.0403, 0.0241, 0.0675, 0.0751, 0.0193, 0.0010, 0.0599, 0.0633, 0.0906, 0.0276, 0.0098, 0.0236, 0.0015, 0.0197, 0.0007]\n",
        "alphabet = ['a', 'b', 'c', 'd', 'e', 'f', 'g', 'h', 'i', 'j','k','l','m','n','o','p','q','r','s','t','u','v','w','x','y','z']\n",
        "norm_dict = {letter: index for letter, index in zip(alphabet, frequency)}\n",
        "sorted_norm_dict = {k: v for k, v in sorted(norm_dict.items(), key=lambda item: item[1], reverse=True)}\n",
        "\n",
        "#print(norm_dict)\n",
        "#print(sorted_norm_dict)\n",
        "\n",
        "#index 0 = A, 1 = B, ... , etc\n",
        "\n",
        "cipher_index = 0\n",
        "letters = []\n",
        "\n",
        "for char in ciphertext:\n",
        "    #index = ord(char) - ord('a')\n",
        "    #cipher_freq[index] += 1\n",
        "    if char not in letters:\n",
        "      letters.append(char)\n",
        "\n",
        "\n",
        "cipher_freq = [0] * len(letters)  #initialize a list with zeros to represent letter frequencies of the ciphertext\n",
        "\n",
        "for i in range (len(ciphertext)):\n",
        "    for j in range (len(letters)):\n",
        "      if ciphertext[i] == letters[j]:\n",
        "        cipher_freq[j] += 1\n",
        "\n",
        "\n",
        "#print(cipher_freq)\n",
        "#print(letters)\n",
        "\n",
        "#after it is populated, we must divide by the length of ciphertext to get % relative frequency\n",
        "\n",
        "for i in range (len(cipher_freq)):\n",
        "  cipher_freq[i] = round(cipher_freq[i]/(len(ciphertext)), 4)   #round to 4 decimal places like the table\n",
        "\n",
        "#print(cipher_freq)\n",
        "\n",
        "# zip the ciphertext to the frequency array in a dictionary\n",
        "\n",
        "frequency_dict = {letter: index for letter, index in zip(letters, cipher_freq)}\n",
        "sorted_dict = {k: v for k, v in sorted(frequency_dict.items(), key=lambda item: item[1], reverse=True)}\n",
        "\n",
        "print(sorted_dict)\n",
        "print(sorted_norm_dict)\n",
        "\n",
        "#next is the frequency analysis\n",
        "#since both arrays are sorted from greatest frequency, we can try matching the letters to each other\n",
        "#t = e and find the shift\n",
        "\n",
        "#calculate the shift amount\n",
        "first_item = next(iter(sorted_dict.items()))\n",
        "first_key, first_value = first_item\n",
        "\n",
        "source_item = next(iter(sorted_norm_dict.items()))\n",
        "first_source_key, first_source_value = source_item\n",
        "\n",
        "shift_amount = ord(first_key) - ord(first_source_key)\n",
        "\n",
        "#print(shift_amount)\n",
        "print(ciphertext)\n",
        "\n",
        "result = ''\n",
        "\n",
        "for char in ciphertext:\n",
        "    if char.isalpha():\n",
        "        char = char.lower()\n",
        "        shifted = chr(((ord(char) - ord('a') - shift_amount) % 26) + ord('a'))\n",
        "        result += shifted\n",
        "    else:\n",
        "        result += char\n",
        "\n",
        "print(result)\n"
      ]
    },
    {
      "cell_type": "code",
      "source": [],
      "metadata": {
        "id": "ljGMRwp23OMU"
      },
      "execution_count": null,
      "outputs": []
    }
  ]
}